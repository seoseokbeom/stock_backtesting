{
 "cells": [
  {
   "cell_type": "code",
   "execution_count": 48,
   "metadata": {},
   "outputs": [],
   "source": [
    "import yfinance as yf\n",
    "import pandas as pd\n",
    "from datetime import date, timedelta, datetime\n",
    "from IPython.display import clear_output\n",
    "import matplotlib.pyplot as pp\n",
    "import plotly.graph_objects as go\n",
    "from MDD import mdd"
   ]
  },
  {
   "cell_type": "code",
   "execution_count": 49,
   "metadata": {},
   "outputs": [],
   "source": [
    "total_asset = [100000000]\n",
    "rebalencing_ratio = [9, 1]\n",
    "total_asset"
   ]
  },
  {
   "cell_type": "code",
   "execution_count": 41,
   "metadata": {},
   "outputs": [],
   "source": [
    "QQQ = yf.Ticker('QQQ')\n",
    "qqq = QQQ.history(start=\"2012-05-01\",  end=datetime.today())\n",
    "qqq = qqq.reset_index()\n",
    "for i in ['Open', 'High', 'Close', 'Low']:\n",
    "    qqq[i] = qqq[i].astype('float64')\n",
    "qqq"
   ]
  },
  {
   "cell_type": "code",
   "execution_count": 37,
   "metadata": {},
   "outputs": [],
   "source": [
    "UVXY = yf.Ticker('UVXY')\n",
    "uvxy = UVXY.history(start=\"2012-05-01\",  end=datetime.today())\n",
    "uvxy = uvxy.reset_index()\n",
    "for i in ['Open', 'High', 'Close', 'Low']:\n",
    "    uvxy[i] = uvxy[i].astype('float64')\n",
    "uvxy=uvxy['Close']\n",
    "# uvxy=uvxy['Close']\n",
    "uvxy_daily_percentage = []\n",
    "for i in range(1, len(uvxy)):\n",
    "    uvxy_daily_percentage.append((uvxy[i]-uvxy[i-1])/uvxy[i-1]+1)\n",
    "uvxy_daily_percentage = pd.DataFrame(uvxy_daily_percentage, columns=['ratio'])\n",
    "uvxy_daily_percentage"
   ]
  },
  {
   "cell_type": "code",
   "execution_count": 18,
   "metadata": {},
   "outputs": [
    {
     "data": {
      "text/html": [
       "<div>\n",
       "<style scoped>\n",
       "    .dataframe tbody tr th:only-of-type {\n",
       "        vertical-align: middle;\n",
       "    }\n",
       "\n",
       "    .dataframe tbody tr th {\n",
       "        vertical-align: top;\n",
       "    }\n",
       "\n",
       "    .dataframe thead th {\n",
       "        text-align: right;\n",
       "    }\n",
       "</style>\n",
       "<table border=\"1\" class=\"dataframe\">\n",
       "  <thead>\n",
       "    <tr style=\"text-align: right;\">\n",
       "      <th></th>\n",
       "      <th>Close</th>\n",
       "    </tr>\n",
       "  </thead>\n",
       "  <tbody>\n",
       "    <tr>\n",
       "      <th>0</th>\n",
       "      <td>1</td>\n",
       "    </tr>\n",
       "    <tr>\n",
       "      <th>1</th>\n",
       "      <td>2</td>\n",
       "    </tr>\n",
       "    <tr>\n",
       "      <th>2</th>\n",
       "      <td>3</td>\n",
       "    </tr>\n",
       "    <tr>\n",
       "      <th>3</th>\n",
       "      <td>4</td>\n",
       "    </tr>\n",
       "  </tbody>\n",
       "</table>\n",
       "</div>"
      ],
      "text/plain": [
       "   Close\n",
       "0      1\n",
       "1      2\n",
       "2      3\n",
       "3      4"
      ]
     },
     "execution_count": 18,
     "metadata": {},
     "output_type": "execute_result"
    }
   ],
   "source": [
    "\n",
    "# type(uvxy)\n",
    "tmp=total_asset[0]\n",
    "for ratio in uvxy_daily_percentage:\n",
    "    tmp=tmp*ratio\n",
    "    total_asset.append(tmp)\n",
    "total_asset\n"
   ]
  },
  {
   "cell_type": "code",
   "execution_count": null,
   "metadata": {},
   "outputs": [],
   "source": [
    "\n",
    "arr=[1,2,3,4]\n",
    "arr = pd.DataFrame(arr,columns =['Close'])\n",
    "arr"
   ]
  }
 ],
 "metadata": {
  "kernelspec": {
   "display_name": "yfinance_kernel",
   "language": "python",
   "name": "yfinance_kernel"
  },
  "language_info": {
   "codemirror_mode": {
    "name": "ipython",
    "version": 3
   },
   "file_extension": ".py",
   "mimetype": "text/x-python",
   "name": "python",
   "nbconvert_exporter": "python",
   "pygments_lexer": "ipython3",
   "version": "3.6.12"
  }
 },
 "nbformat": 4,
 "nbformat_minor": 4
}
